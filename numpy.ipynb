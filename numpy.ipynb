{
 "cells": [
  {
   "cell_type": "code",
   "execution_count": 78,
   "metadata": {},
   "outputs": [
    {
     "name": "stdout",
     "output_type": "stream",
     "text": [
      "2D Array:\n",
      "[[ 5 11  4]\n",
      " [ 6 17 19]\n",
      " [14  7  9]]\n"
     ]
    }
   ],
   "source": [
    "import numpy as np\n",
    "\n",
    "array = np.random.randint(1, 21, size=(3, 3))\n",
    "print(\"2D Array:\")\n",
    "print(array)"
   ]
  },
  {
   "cell_type": "code",
   "execution_count": 79,
   "metadata": {},
   "outputs": [
    {
     "name": "stdout",
     "output_type": "stream",
     "text": [
      "Shape of array: (3, 3)\n",
      "Size of array: 9\n",
      "Data type of array: int32\n"
     ]
    }
   ],
   "source": [
    "print(\"Shape of array:\", array.shape)\n",
    "print(\"Size of array:\", array.size)\n",
    "print(\"Data type of array:\", array.dtype)"
   ]
  },
  {
   "cell_type": "code",
   "execution_count": 80,
   "metadata": {},
   "outputs": [
    {
     "name": "stdout",
     "output_type": "stream",
     "text": [
      "First row of the array: [ 5 11  4]\n",
      "Last column of the array: [ 4 19  9]\n"
     ]
    }
   ],
   "source": [
    "print(\"First row of the array:\", array[0])\n",
    "print(\"Last column of the array:\", array[:, -1])"
   ]
  },
  {
   "cell_type": "code",
   "execution_count": 81,
   "metadata": {},
   "outputs": [
    {
     "name": "stdout",
     "output_type": "stream",
     "text": [
      "Sum of all elements: 92\n",
      "Sum of elements in row: [20 42 30]\n",
      "Sum of elements in column: [25 35 32]\n"
     ]
    }
   ],
   "source": [
    "print(\"Sum of all elements:\", array.sum())\n",
    "print(\"Sum of elements in row:\", array.sum(axis=1))\n",
    "print(\"Sum of elements in column:\", array.sum(axis=0))"
   ]
  },
  {
   "cell_type": "code",
   "execution_count": 82,
   "metadata": {},
   "outputs": [
    {
     "name": "stdout",
     "output_type": "stream",
     "text": [
      "1D Array: [10 14 18 22 26 30]\n"
     ]
    }
   ],
   "source": [
    "oneDarra = np.arange(10, 31, 4)\n",
    "print(\"1D Array:\", oneDarra)"
   ]
  },
  {
   "cell_type": "code",
   "execution_count": 83,
   "metadata": {},
   "outputs": [
    {
     "name": "stdout",
     "output_type": "stream",
     "text": [
      "2D Array (reshaped):\n",
      "[[10 14 18]\n",
      " [22 26 30]]\n"
     ]
    }
   ],
   "source": [
    "twoDarr = one_d_array.reshape(2, 3)\n",
    "print(\"2D Array (reshaped):\")\n",
    "print(twoDarr)"
   ]
  },
  {
   "cell_type": "code",
   "execution_count": 84,
   "metadata": {},
   "outputs": [
    {
     "name": "stdout",
     "output_type": "stream",
     "text": [
      "Divisible by 5: [10 30]\n"
     ]
    }
   ],
   "source": [
    "divby5 = two_d_array[two_d_array % 5 == 0]\n",
    "print(\"Divisible by 5:\", divby5)"
   ]
  }
 ],
 "metadata": {
  "kernelspec": {
   "display_name": "base",
   "language": "python",
   "name": "python3"
  },
  "language_info": {
   "codemirror_mode": {
    "name": "ipython",
    "version": 3
   },
   "file_extension": ".py",
   "mimetype": "text/x-python",
   "name": "python",
   "nbconvert_exporter": "python",
   "pygments_lexer": "ipython3",
   "version": "3.11.7"
  }
 },
 "nbformat": 4,
 "nbformat_minor": 2
}
